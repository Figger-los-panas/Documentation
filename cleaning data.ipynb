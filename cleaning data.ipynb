{
  "cells": [
    {
      "cell_type": "markdown",
      "metadata": {},
      "source": [
        "# Limpieza y Preprocesamiento de Datos de Manufactura\n",
        "\n",
        "Este notebook implementa un proceso completo de limpieza y preprocesamiento del dataset original de manufactura. El objetivo principal es eliminar inconsistencias, valores faltantes y preparar los datos para análisis posteriores.\n",
        "\n",
        "**Archivo de entrada**: `Dataset_Talento.csv`  \n",
        "**Archivo de salida**: `cleaned_dataset.csv`\n",
        "\n",
        "> **Proceso**: Incluye limpieza sistemática, análisis temporal y validación de calidad de datos."
      ]
    },
    {
      "cell_type": "markdown",
      "metadata": {},
      "source": [
        "# Instalación de Dependencias\n",
        "\n",
        "Instalamos las librerías necesarias para el procesamiento de datos, análisis estadístico y visualización.\n",
        "\n",
        "**Librerías requeridas**:\n",
        "- **pandas**: Manipulación y análisis de datos\n",
        "- **matplotlib**: Visualización básica de datos  \n",
        "- **seaborn**: Visualizaciones estadísticas avanzadas\n",
        "- **scipy**: Análisis estadístico y correlaciones"
      ]
    },
    {
      "cell_type": "code",
      "execution_count": 36,
      "metadata": {
        "colab": {
          "base_uri": "https://localhost:8080/"
        },
        "id": "YiP9TniJo2j2",
        "outputId": "7fb361c5-7723-4453-ce8c-1d07c83e1022"
      },
      "outputs": [
        {
          "name": "stdout",
          "output_type": "stream",
          "text": [
            "Requirement already satisfied: pandas in c:\\users\\administrator\\documents\\lol\\bootcamp\\hackaton\\documentation\\.venv\\lib\\site-packages (2.3.1)\n",
            "Requirement already satisfied: matplotlib in c:\\users\\administrator\\documents\\lol\\bootcamp\\hackaton\\documentation\\.venv\\lib\\site-packages (3.10.3)\n",
            "Requirement already satisfied: seaborn in c:\\users\\administrator\\documents\\lol\\bootcamp\\hackaton\\documentation\\.venv\\lib\\site-packages (0.13.2)\n",
            "Requirement already satisfied: scipy in c:\\users\\administrator\\documents\\lol\\bootcamp\\hackaton\\documentation\\.venv\\lib\\site-packages (1.16.0)\n",
            "Requirement already satisfied: numpy>=1.26.0 in c:\\users\\administrator\\documents\\lol\\bootcamp\\hackaton\\documentation\\.venv\\lib\\site-packages (from pandas) (2.3.2)\n",
            "Requirement already satisfied: python-dateutil>=2.8.2 in c:\\users\\administrator\\documents\\lol\\bootcamp\\hackaton\\documentation\\.venv\\lib\\site-packages (from pandas) (2.9.0.post0)\n",
            "Requirement already satisfied: pytz>=2020.1 in c:\\users\\administrator\\documents\\lol\\bootcamp\\hackaton\\documentation\\.venv\\lib\\site-packages (from pandas) (2025.2)\n",
            "Requirement already satisfied: tzdata>=2022.7 in c:\\users\\administrator\\documents\\lol\\bootcamp\\hackaton\\documentation\\.venv\\lib\\site-packages (from pandas) (2025.2)\n",
            "Requirement already satisfied: contourpy>=1.0.1 in c:\\users\\administrator\\documents\\lol\\bootcamp\\hackaton\\documentation\\.venv\\lib\\site-packages (from matplotlib) (1.3.3)\n",
            "Requirement already satisfied: cycler>=0.10 in c:\\users\\administrator\\documents\\lol\\bootcamp\\hackaton\\documentation\\.venv\\lib\\site-packages (from matplotlib) (0.12.1)\n",
            "Requirement already satisfied: fonttools>=4.22.0 in c:\\users\\administrator\\documents\\lol\\bootcamp\\hackaton\\documentation\\.venv\\lib\\site-packages (from matplotlib) (4.59.0)\n",
            "Requirement already satisfied: kiwisolver>=1.3.1 in c:\\users\\administrator\\documents\\lol\\bootcamp\\hackaton\\documentation\\.venv\\lib\\site-packages (from matplotlib) (1.4.8)\n",
            "Requirement already satisfied: packaging>=20.0 in c:\\users\\administrator\\documents\\lol\\bootcamp\\hackaton\\documentation\\.venv\\lib\\site-packages (from matplotlib) (25.0)\n",
            "Requirement already satisfied: pillow>=8 in c:\\users\\administrator\\documents\\lol\\bootcamp\\hackaton\\documentation\\.venv\\lib\\site-packages (from matplotlib) (11.3.0)\n",
            "Requirement already satisfied: pyparsing>=2.3.1 in c:\\users\\administrator\\documents\\lol\\bootcamp\\hackaton\\documentation\\.venv\\lib\\site-packages (from matplotlib) (3.2.3)\n",
            "Requirement already satisfied: six>=1.5 in c:\\users\\administrator\\documents\\lol\\bootcamp\\hackaton\\documentation\\.venv\\lib\\site-packages (from python-dateutil>=2.8.2->pandas) (1.17.0)\n"
          ]
        },
        {
          "name": "stderr",
          "output_type": "stream",
          "text": [
            "\n",
            "[notice] A new release of pip is available: 24.0 -> 25.1.1\n",
            "[notice] To update, run: python.exe -m pip install --upgrade pip\n"
          ]
        }
      ],
      "source": [
        "!pip install pandas matplotlib seaborn scipy\n"
      ]
    },
    {
      "cell_type": "markdown",
      "metadata": {},
      "source": [
        "# Importación de Librerías Básicas\n",
        "\n",
        "Importamos las librerías fundamentales para el análisis de datos.\n",
        "\n",
        "**Librerías utilizadas**:\n",
        "- **pandas**: Para manipulación de DataFrames y análisis de datos\n",
        "- **numpy**: Para operaciones numéricas y manejo de arrays"
      ]
    },
    {
      "cell_type": "markdown",
      "metadata": {},
      "source": [
        "# Carga del Dataset Original\n",
        "\n",
        "Cargamos el dataset original sin procesar desde el archivo CSV.\n",
        "\n",
        "**Archivo**: `Dataset_Talento.csv`  \n",
        "**Contenido**: Datos brutos de manufactura que requieren limpieza y procesamiento\n",
        "\n",
        "> **Importante**: Este es el punto de partida del proceso de limpieza de datos."
      ]
    },
    {
      "cell_type": "markdown",
      "metadata": {},
      "source": [
        "# Inspección Inicial del Dataset\n",
        "\n",
        "Realizamos una inspección preliminar del dataset para entender su estructura y identificar posibles problemas de calidad de datos.\n",
        "\n",
        "## Información obtenida:\n",
        "\n",
        "- **Dimensiones**: Número de filas y columnas\n",
        "- **Tipos de datos**: Identificación de variables numéricas y categóricas\n",
        "- **Valores faltantes**: Detección de NaN por columna\n",
        "- **Memoria utilizada**: Estimación del uso de recursos\n",
        "\n",
        "> **Objetivo**: Evaluar la calidad inicial de los datos antes del proceso de limpieza."
      ]
    },
    {
      "cell_type": "code",
      "execution_count": 37,
      "metadata": {
        "id": "d5-l5hBgpBue"
      },
      "outputs": [],
      "source": [
        "import pandas as pd\n",
        "import numpy as np"
      ]
    },
    {
      "cell_type": "code",
      "execution_count": 38,
      "metadata": {
        "id": "k_US1sLDpF3W"
      },
      "outputs": [],
      "source": [
        "testing = pd.read_csv(\"Dataset_Talento.csv\")"
      ]
    },
    {
      "cell_type": "code",
      "execution_count": 39,
      "metadata": {
        "colab": {
          "base_uri": "https://localhost:8080/"
        },
        "id": "bWMSjCoGrAWV",
        "outputId": "268d50d5-ebf6-402d-8e5b-f43ca9f00b57"
      },
      "outputs": [
        {
          "name": "stdout",
          "output_type": "stream",
          "text": [
            "<class 'pandas.core.frame.DataFrame'>\n",
            "RangeIndex: 6000 entries, 0 to 5999\n",
            "Data columns (total 18 columns):\n",
            " #   Column                 Non-Null Count  Dtype  \n",
            "---  ------                 --------------  -----  \n",
            " 0   timestamp              6000 non-null   object \n",
            " 1   turno                  6000 non-null   object \n",
            " 2   operador_id            6000 non-null   object \n",
            " 3   maquina_id             6000 non-null   object \n",
            " 4   producto_id            6000 non-null   object \n",
            " 5   temperatura            5820 non-null   float64\n",
            " 6   vibración              5820 non-null   float64\n",
            " 7   humedad                5820 non-null   float64\n",
            " 8   tiempo_ciclo           5820 non-null   float64\n",
            " 9   fallo_detectado        6000 non-null   object \n",
            " 10  tipo_fallo             599 non-null    object \n",
            " 11  cantidad_producida     6000 non-null   int64  \n",
            " 12  unidades_defectuosas   6000 non-null   int64  \n",
            " 13  eficiencia_porcentual  5820 non-null   float64\n",
            " 14  consumo_energia        5820 non-null   float64\n",
            " 15  paradas_programadas    6000 non-null   int64  \n",
            " 16  paradas_imprevistas    6000 non-null   int64  \n",
            " 17  observaciones          1774 non-null   object \n",
            "dtypes: float64(6), int64(4), object(8)\n",
            "memory usage: 843.9+ KB\n"
          ]
        }
      ],
      "source": [
        "testing.info()"
      ]
    },
    {
      "cell_type": "markdown",
      "metadata": {
        "id": "Xhgc57x-pPLl"
      },
      "source": [
        "# Proceso de Limpieza de Datos\n",
        "\n",
        "Esta sección implementa el algoritmo principal de limpieza de datos, eliminando sistemáticamente las filas que contienen valores faltantes en variables críticas para el análisis.\n",
        "\n",
        "## Estrategia de limpieza:\n",
        "\n",
        "1. **Definición de variables críticas**: Identificación de columnas esenciales\n",
        "2. **Evaluación de completitud**: Análisis de valores faltantes por variable\n",
        "3. **Eliminación selectiva**: Remoción de registros con datos incompletos\n",
        "4. **Validación de resultados**: Verificación de la calidad post-limpieza\n",
        "\n",
        "> **Enfoque**: Eliminación de filas con valores faltantes en lugar de imputación para mantener la integridad de los datos."
      ]
    },
    {
      "cell_type": "code",
      "execution_count": 40,
      "metadata": {
        "colab": {
          "base_uri": "https://localhost:8080/"
        },
        "id": "WEVYgJcNpO-W",
        "outputId": "462c8090-3dbd-4c4c-e554-bb6760ebc496"
      },
      "outputs": [
        {
          "name": "stdout",
          "output_type": "stream",
          "text": [
            "=== DATA CLEANING: REMOVING ROWS WITH NaN IN SPECIFIC COLUMNS ===\n",
            "\n",
            "Critical columns (cannot have NaN): ['temperatura', 'vibración', 'humedad', 'tiempo_ciclo', 'eficiencia_porcentual', 'consumo_energia']\n",
            "============================================================\n",
            "Initial dataset: 6000 rows\n",
            "\n",
            "Found critical columns: ['temperatura', 'vibración', 'humedad', 'tiempo_ciclo', 'eficiencia_porcentual', 'consumo_energia']\n",
            "\n",
            "NaN count in critical columns BEFORE cleaning:\n",
            "  temperatura: 180 NaN values\n",
            "  vibración: 180 NaN values\n",
            "  humedad: 180 NaN values\n",
            "  tiempo_ciclo: 180 NaN values\n",
            "  eficiencia_porcentual: 180 NaN values\n",
            "  consumo_energia: 180 NaN values\n",
            "\n",
            "CLEANING RESULTS:\n",
            "========================================\n",
            "Rows before cleaning: 6000\n",
            "Rows after cleaning:  4991\n",
            "Rows removed:         1009\n",
            "Data retention:       83.2%\n",
            "\n",
            "================================================================================\n",
            "DATASET INFO AFTER CLEANING:\n",
            "================================================================================\n",
            " 1. timestamp                 | object     | 4991/4991 non-null |   0 NaN (  0.0%)\n",
            " 2. turno                     | object     | 4991/4991 non-null |   0 NaN (  0.0%)\n",
            " 3. operador_id               | object     | 4991/4991 non-null |   0 NaN (  0.0%)\n",
            " 4. maquina_id                | object     | 4991/4991 non-null |   0 NaN (  0.0%)\n",
            " 5. producto_id               | object     | 4991/4991 non-null |   0 NaN (  0.0%)\n",
            " 6. temperatura               | float64    | 4991/4991 non-null |   0 NaN (  0.0%) ★\n",
            " 7. vibración                 | float64    | 4991/4991 non-null |   0 NaN (  0.0%) ★\n",
            " 8. humedad                   | float64    | 4991/4991 non-null |   0 NaN (  0.0%) ★\n",
            " 9. tiempo_ciclo              | float64    | 4991/4991 non-null |   0 NaN (  0.0%) ★\n",
            "10. fallo_detectado           | object     | 4991/4991 non-null |   0 NaN (  0.0%)\n",
            "11. tipo_fallo                | object     |  495/4991 non-null | 4496 NaN ( 90.1%)\n",
            "12. cantidad_producida        | int64      | 4991/4991 non-null |   0 NaN (  0.0%)\n",
            "13. unidades_defectuosas      | int64      | 4991/4991 non-null |   0 NaN (  0.0%)\n",
            "14. eficiencia_porcentual     | float64    | 4991/4991 non-null |   0 NaN (  0.0%) ★\n",
            "15. consumo_energia           | float64    | 4991/4991 non-null |   0 NaN (  0.0%) ★\n",
            "16. paradas_programadas       | int64      | 4991/4991 non-null |   0 NaN (  0.0%)\n",
            "17. paradas_imprevistas       | int64      | 4991/4991 non-null |   0 NaN (  0.0%)\n",
            "18. observaciones             | object     | 1484/4991 non-null | 3507 NaN ( 70.3%)\n"
          ]
        }
      ],
      "source": [
        "testing = pd.read_csv(\"Dataset_Talento.csv\")\n",
        "\n",
        "print(\"=== DATA CLEANING: REMOVING ROWS WITH NaN IN SPECIFIC COLUMNS ===\\n\")\n",
        "\n",
        "# Define the columns that cannot have NaN values\n",
        "critical_columns = ['temperatura', 'vibración', 'humedad', 'tiempo_ciclo', 'eficiencia_porcentual', 'consumo_energia']\n",
        "\n",
        "print(f\"Critical columns (cannot have NaN): {critical_columns}\")\n",
        "print(\"=\" * 60)\n",
        "\n",
        "# Get initial dataset info\n",
        "initial_rows = len(testing)\n",
        "print(f\"Initial dataset: {initial_rows} rows\")\n",
        "\n",
        "# Check which critical columns exist in the dataset\n",
        "existing_critical_cols = [col for col in critical_columns if col in testing.columns]\n",
        "missing_critical_cols = [col for col in critical_columns if col not in testing.columns]\n",
        "\n",
        "print(f\"\\nFound critical columns: {existing_critical_cols}\")\n",
        "if missing_critical_cols:\n",
        "    print(f\"Missing critical columns: {missing_critical_cols}\")\n",
        "\n",
        "# Show NaN count in critical columns before cleaning\n",
        "print(f\"\\nNaN count in critical columns BEFORE cleaning:\")\n",
        "for col in existing_critical_cols:\n",
        "    nan_count = testing[col].isna().sum()\n",
        "    print(f\"  {col}: {nan_count} NaN values\")\n",
        "\n",
        "# Remove rows with NaN in any of the existing critical columns\n",
        "if existing_critical_cols:\n",
        "    testing_clean = testing.dropna(subset=existing_critical_cols).reset_index(drop=True)\n",
        "else:\n",
        "    print(\"No critical columns found in dataset - no cleaning performed\")\n",
        "    testing_clean = testing.copy()\n",
        "\n",
        "# Calculate cleaning results\n",
        "final_rows = len(testing_clean)\n",
        "removed_rows = initial_rows - final_rows\n",
        "\n",
        "print(f\"\\nCLEANING RESULTS:\")\n",
        "print(\"=\" * 40)\n",
        "print(f\"Rows before cleaning: {initial_rows}\")\n",
        "print(f\"Rows after cleaning:  {final_rows}\")\n",
        "print(f\"Rows removed:         {removed_rows}\")\n",
        "print(f\"Data retention:       {(final_rows/initial_rows*100):.1f}%\")\n",
        "\n",
        "# Show overall dataset info after cleaning\n",
        "print(\"\\n\" + \"=\" * 80)\n",
        "print(\"DATASET INFO AFTER CLEANING:\")\n",
        "print(\"=\" * 80)\n",
        "for i, col in enumerate(testing_clean.columns, 1):\n",
        "    dtype = testing_clean[col].dtype\n",
        "    non_null = testing_clean[col].count()\n",
        "    total = len(testing_clean)\n",
        "    null_count = total - non_null\n",
        "    null_pct = (null_count/total*100) if total > 0 else 0\n",
        "\n",
        "    # Mark critical columns\n",
        "    marker = \" ★\" if col in existing_critical_cols else \"\"\n",
        "\n",
        "    print(f\"{i:2d}. {col:25s} | {str(dtype):10s} | {non_null:4d}/{total} non-null | {null_count:3d} NaN ({null_pct:5.1f}%){marker}\")\n"
      ]
    },
    {
      "cell_type": "code",
      "execution_count": 41,
      "metadata": {
        "colab": {
          "base_uri": "https://localhost:8080/"
        },
        "id": "vvOVcgNMs0Hr",
        "outputId": "acda2c64-29ba-47c4-8eb4-703eed15da7e"
      },
      "outputs": [
        {
          "name": "stdout",
          "output_type": "stream",
          "text": [
            "<class 'pandas.core.frame.DataFrame'>\n",
            "RangeIndex: 4991 entries, 0 to 4990\n",
            "Data columns (total 18 columns):\n",
            " #   Column                 Non-Null Count  Dtype  \n",
            "---  ------                 --------------  -----  \n",
            " 0   timestamp              4991 non-null   object \n",
            " 1   turno                  4991 non-null   object \n",
            " 2   operador_id            4991 non-null   object \n",
            " 3   maquina_id             4991 non-null   object \n",
            " 4   producto_id            4991 non-null   object \n",
            " 5   temperatura            4991 non-null   float64\n",
            " 6   vibración              4991 non-null   float64\n",
            " 7   humedad                4991 non-null   float64\n",
            " 8   tiempo_ciclo           4991 non-null   float64\n",
            " 9   fallo_detectado        4991 non-null   object \n",
            " 10  tipo_fallo             495 non-null    object \n",
            " 11  cantidad_producida     4991 non-null   int64  \n",
            " 12  unidades_defectuosas   4991 non-null   int64  \n",
            " 13  eficiencia_porcentual  4991 non-null   float64\n",
            " 14  consumo_energia        4991 non-null   float64\n",
            " 15  paradas_programadas    4991 non-null   int64  \n",
            " 16  paradas_imprevistas    4991 non-null   int64  \n",
            " 17  observaciones          1484 non-null   object \n",
            "dtypes: float64(6), int64(4), object(8)\n",
            "memory usage: 702.0+ KB\n"
          ]
        }
      ],
      "source": [
        "testing_clean.info()"
      ]
    },
    {
      "cell_type": "markdown",
      "metadata": {
        "id": "G_Xznr_-tLYS"
      },
      "source": [
        "# Análisis Temporal y de Correlaciones\n",
        "\n",
        "En esta sección realizamos un análisis avanzado de los datos limpios, enfocándonos en patrones temporales y correlaciones entre variables de manufactura.\n",
        "\n",
        "## Análisis implementados:\n",
        "\n",
        "1. **Extracción de características temporales**: Hora, día de la semana, mes\n",
        "2. **Análisis de correlaciones temporales**: Relaciones entre tiempo y variables operacionales  \n",
        "3. **Visualizaciones temporales**: Gráficos de rendimiento por períodos\n",
        "4. **Identificación de patrones**: Detección de tendencias y ciclos\n",
        "\n",
        "> **Objetivo**: Descubrir patrones temporales que puedan influir en la eficiencia y calidad de la producción."
      ]
    },
    {
      "cell_type": "markdown",
      "metadata": {},
      "source": [
        "# Validación de Datos: Eficiencia Porcentual\n",
        "\n",
        "Identificamos y analizamos valores anómalos en la variable de eficiencia porcentual.\n",
        "\n",
        "## Validación realizada:\n",
        "\n",
        "- **Detección de anomalías**: Identificación de valores de eficiencia > 100%\n",
        "- **Análisis de distribución**: Evaluación de la frecuencia de valores anómalos\n",
        "- **Evaluación de impacto**: Determinación del efecto en el análisis\n",
        "\n",
        "> **Criterio**: La eficiencia porcentual no debería exceder el 100% en condiciones normales de operación."
      ]
    },
    {
      "cell_type": "code",
      "execution_count": 42,
      "metadata": {
        "id": "aJVNPLVctOHa"
      },
      "outputs": [],
      "source": [
        "testing = testing_clean.copy"
      ]
    },
    {
      "cell_type": "code",
      "execution_count": 43,
      "metadata": {},
      "outputs": [
        {
          "data": {
            "text/plain": [
              "298     101.573110\n",
              "693     100.179076\n",
              "1957    102.024829\n",
              "2053    101.016465\n",
              "4300    100.520575\n",
              "Name: eficiencia_porcentual, dtype: float64"
            ]
          },
          "execution_count": 43,
          "metadata": {},
          "output_type": "execute_result"
        }
      ],
      "source": [
        "testing_clean[testing_clean['eficiencia_porcentual'] > 100]['eficiencia_porcentual']"
      ]
    },
    {
      "cell_type": "code",
      "execution_count": 44,
      "metadata": {},
      "outputs": [
        {
          "data": {
            "text/plain": [
              "Series([], Name: eficiencia_porcentual, dtype: float64)"
            ]
          },
          "execution_count": 44,
          "metadata": {},
          "output_type": "execute_result"
        }
      ],
      "source": [
        "testing_cleaned = testing_clean.query('eficiencia_porcentual <= 100')\n",
        "testing_cleaned[testing_cleaned['eficiencia_porcentual'] > 100]['eficiencia_porcentual']"
      ]
    },
    {
      "cell_type": "code",
      "execution_count": 45,
      "metadata": {},
      "outputs": [
        {
          "name": "stdout",
          "output_type": "stream",
          "text": [
            "<class 'pandas.core.frame.DataFrame'>\n",
            "Index: 4986 entries, 0 to 4990\n",
            "Data columns (total 18 columns):\n",
            " #   Column                 Non-Null Count  Dtype  \n",
            "---  ------                 --------------  -----  \n",
            " 0   timestamp              4986 non-null   object \n",
            " 1   turno                  4986 non-null   object \n",
            " 2   operador_id            4986 non-null   object \n",
            " 3   maquina_id             4986 non-null   object \n",
            " 4   producto_id            4986 non-null   object \n",
            " 5   temperatura            4986 non-null   float64\n",
            " 6   vibración              4986 non-null   float64\n",
            " 7   humedad                4986 non-null   float64\n",
            " 8   tiempo_ciclo           4986 non-null   float64\n",
            " 9   fallo_detectado        4986 non-null   object \n",
            " 10  tipo_fallo             495 non-null    object \n",
            " 11  cantidad_producida     4986 non-null   int64  \n",
            " 12  unidades_defectuosas   4986 non-null   int64  \n",
            " 13  eficiencia_porcentual  4986 non-null   float64\n",
            " 14  consumo_energia        4986 non-null   float64\n",
            " 15  paradas_programadas    4986 non-null   int64  \n",
            " 16  paradas_imprevistas    4986 non-null   int64  \n",
            " 17  observaciones          1483 non-null   object \n",
            "dtypes: float64(6), int64(4), object(8)\n",
            "memory usage: 740.1+ KB\n"
          ]
        }
      ],
      "source": [
        "testing_cleaned.to_csv(\"cleaned_dataset.csv\", index=False)\n",
        "testing_cleaned.info()"
      ]
    }
  ],
  "metadata": {
    "colab": {
      "provenance": []
    },
    "kernelspec": {
      "display_name": ".venv (3.12.4)",
      "language": "python",
      "name": "python3"
    },
    "language_info": {
      "codemirror_mode": {
        "name": "ipython",
        "version": 3
      },
      "file_extension": ".py",
      "mimetype": "text/x-python",
      "name": "python",
      "nbconvert_exporter": "python",
      "pygments_lexer": "ipython3",
      "version": "3.12.4"
    }
  },
  "nbformat": 4,
  "nbformat_minor": 0
}
